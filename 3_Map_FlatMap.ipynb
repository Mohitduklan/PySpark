{
 "cells": [
  {
   "cell_type": "code",
   "execution_count": 18,
   "metadata": {},
   "outputs": [],
   "source": [
    "from pyspark import SparkContext"
   ]
  },
  {
   "cell_type": "code",
   "execution_count": 19,
   "metadata": {
    "scrolled": true
   },
   "outputs": [],
   "source": [
    "sc = SparkContext('local')"
   ]
  },
  {
   "cell_type": "code",
   "execution_count": 20,
   "metadata": {},
   "outputs": [],
   "source": [
    "rdd = sc.textFile('text.txt')"
   ]
  },
  {
   "cell_type": "code",
   "execution_count": 21,
   "metadata": {
    "scrolled": true
   },
   "outputs": [
    {
     "data": {
      "text/plain": [
       "['A wiki is run using wiki software, otherwise known as a wiki engine. A wiki engine is a type of content management system, but it differs from most other such systems, including blog software, in that the content is created without any defined owner or leader, and wikis have little inherent structure, allowing structure to emerge according to the needs of the users.[2] There are dozens of different wiki engines in use, both standalone and part of other software, such as bug tracking systems. Some wiki engines are open source, whereas others are proprietary. Some permit control over different functions (levels of access); for example, editing rights may permit changing, adding, or removing material. Others may permit access without enforcing access control. Other rules may be imposed to organize content.',\n",
       " '',\n",
       " 'The online encyclopedia project Wikipedia is the most popular wiki-based website, and is one of the most widely viewed sites in the world, having been ranked in the top ten since 2007.[3] Wikipedia is not a single wiki but rather a collection of hundreds of wikis, with each one pertaining to a specific language. In addition to Wikipedia, there are tens of thousands of other wikis in use, both public and private, including wikis functioning as knowledge management resources, notetaking tools, community websites, and intranets. The English-language Wikipedia has the largest collection of articles; as of September 2016, it had over five million articles. Ward Cunningham, the developer of the first wiki software, WikiWikiWeb, originally described wiki as \"the simplest online database that could possibly work\".[4] \"Wiki\" (pronounced [ˈwiki][note 1]) is a Hawaiian word meaning \"quick\".[5][6][7]',\n",
       " '',\n",
       " '']"
      ]
     },
     "execution_count": 21,
     "metadata": {},
     "output_type": "execute_result"
    }
   ],
   "source": [
    "rdd.take(5)"
   ]
  },
  {
   "cell_type": "code",
   "execution_count": 22,
   "metadata": {},
   "outputs": [],
   "source": [
    "def preprocess(line):\n",
    "    line = line.lower()\n",
    "    line = line.split()\n",
    "    return line\n",
    "\n"
   ]
  },
  {
   "cell_type": "code",
   "execution_count": 23,
   "metadata": {},
   "outputs": [],
   "source": [
    "rddPreMap = rdd.map(preprocess)"
   ]
  },
  {
   "cell_type": "code",
   "execution_count": 24,
   "metadata": {},
   "outputs": [
    {
     "data": {
      "text/plain": [
       "[['a',\n",
       "  'wiki',\n",
       "  'is',\n",
       "  'run',\n",
       "  'using',\n",
       "  'wiki',\n",
       "  'software,',\n",
       "  'otherwise',\n",
       "  'known',\n",
       "  'as',\n",
       "  'a',\n",
       "  'wiki',\n",
       "  'engine.',\n",
       "  'a',\n",
       "  'wiki',\n",
       "  'engine',\n",
       "  'is',\n",
       "  'a',\n",
       "  'type',\n",
       "  'of',\n",
       "  'content',\n",
       "  'management',\n",
       "  'system,',\n",
       "  'but',\n",
       "  'it',\n",
       "  'differs',\n",
       "  'from',\n",
       "  'most',\n",
       "  'other',\n",
       "  'such',\n",
       "  'systems,',\n",
       "  'including',\n",
       "  'blog',\n",
       "  'software,',\n",
       "  'in',\n",
       "  'that',\n",
       "  'the',\n",
       "  'content',\n",
       "  'is',\n",
       "  'created',\n",
       "  'without',\n",
       "  'any',\n",
       "  'defined',\n",
       "  'owner',\n",
       "  'or',\n",
       "  'leader,',\n",
       "  'and',\n",
       "  'wikis',\n",
       "  'have',\n",
       "  'little',\n",
       "  'inherent',\n",
       "  'structure,',\n",
       "  'allowing',\n",
       "  'structure',\n",
       "  'to',\n",
       "  'emerge',\n",
       "  'according',\n",
       "  'to',\n",
       "  'the',\n",
       "  'needs',\n",
       "  'of',\n",
       "  'the',\n",
       "  'users.[2]',\n",
       "  'there',\n",
       "  'are',\n",
       "  'dozens',\n",
       "  'of',\n",
       "  'different',\n",
       "  'wiki',\n",
       "  'engines',\n",
       "  'in',\n",
       "  'use,',\n",
       "  'both',\n",
       "  'standalone',\n",
       "  'and',\n",
       "  'part',\n",
       "  'of',\n",
       "  'other',\n",
       "  'software,',\n",
       "  'such',\n",
       "  'as',\n",
       "  'bug',\n",
       "  'tracking',\n",
       "  'systems.',\n",
       "  'some',\n",
       "  'wiki',\n",
       "  'engines',\n",
       "  'are',\n",
       "  'open',\n",
       "  'source,',\n",
       "  'whereas',\n",
       "  'others',\n",
       "  'are',\n",
       "  'proprietary.',\n",
       "  'some',\n",
       "  'permit',\n",
       "  'control',\n",
       "  'over',\n",
       "  'different',\n",
       "  'functions',\n",
       "  '(levels',\n",
       "  'of',\n",
       "  'access);',\n",
       "  'for',\n",
       "  'example,',\n",
       "  'editing',\n",
       "  'rights',\n",
       "  'may',\n",
       "  'permit',\n",
       "  'changing,',\n",
       "  'adding,',\n",
       "  'or',\n",
       "  'removing',\n",
       "  'material.',\n",
       "  'others',\n",
       "  'may',\n",
       "  'permit',\n",
       "  'access',\n",
       "  'without',\n",
       "  'enforcing',\n",
       "  'access',\n",
       "  'control.',\n",
       "  'other',\n",
       "  'rules',\n",
       "  'may',\n",
       "  'be',\n",
       "  'imposed',\n",
       "  'to',\n",
       "  'organize',\n",
       "  'content.'],\n",
       " []]"
      ]
     },
     "execution_count": 24,
     "metadata": {},
     "output_type": "execute_result"
    }
   ],
   "source": [
    "rddPreMap.take(2)"
   ]
  },
  {
   "cell_type": "code",
   "execution_count": 25,
   "metadata": {},
   "outputs": [],
   "source": [
    "rddPreFlatMap = rdd.flatMap(preprocess)"
   ]
  },
  {
   "cell_type": "code",
   "execution_count": 26,
   "metadata": {},
   "outputs": [
    {
     "data": {
      "text/plain": [
       "['a', 'wiki']"
      ]
     },
     "execution_count": 26,
     "metadata": {},
     "output_type": "execute_result"
    }
   ],
   "source": [
    "rddPreFlatMap.take(2)"
   ]
  },
  {
   "cell_type": "code",
   "execution_count": 27,
   "metadata": {},
   "outputs": [],
   "source": [
    "sc.stop()"
   ]
  },
  {
   "cell_type": "code",
   "execution_count": null,
   "metadata": {},
   "outputs": [],
   "source": []
  }
 ],
 "metadata": {
  "kernelspec": {
   "display_name": "Python 3",
   "language": "python",
   "name": "python3"
  },
  "language_info": {
   "codemirror_mode": {
    "name": "ipython",
    "version": 3
   },
   "file_extension": ".py",
   "mimetype": "text/x-python",
   "name": "python",
   "nbconvert_exporter": "python",
   "pygments_lexer": "ipython3",
   "version": "3.6.8"
  }
 },
 "nbformat": 4,
 "nbformat_minor": 2
}
