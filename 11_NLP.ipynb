{
 "cells": [
  {
   "cell_type": "code",
   "execution_count": 1,
   "id": "3f24d05b",
   "metadata": {},
   "outputs": [],
   "source": [
    "import pyspark\n",
    "from pyspark.sql import SparkSession\n",
    "# from pyspark.ml.feature import \n",
    "import pyspark.sql.functions as sqlf\n"
   ]
  },
  {
   "cell_type": "code",
   "execution_count": 2,
   "id": "f505bdfb",
   "metadata": {},
   "outputs": [],
   "source": [
    "spark = SparkSession.builder.appName(\"app\").getOrCreate()"
   ]
  },
  {
   "cell_type": "code",
   "execution_count": 3,
   "id": "ae362041",
   "metadata": {},
   "outputs": [],
   "source": [
    "df = spark.read.csv(\"./Python-and-Spark-for-Big-Data-master/Python-and-Spark-for-Big-Data-master/Spark_for_Machine_Learning/Natural_Language_Processing/smsspamcollection/SMSSpamCollection\",\n",
    "              sep = \"\\t\")"
   ]
  },
  {
   "cell_type": "code",
   "execution_count": 4,
   "id": "f48f7331",
   "metadata": {},
   "outputs": [
    {
     "name": "stdout",
     "output_type": "stream",
     "text": [
      "+----+--------------------+\n",
      "| _c0|                 _c1|\n",
      "+----+--------------------+\n",
      "| ham|Go until jurong p...|\n",
      "| ham|Ok lar... Joking ...|\n",
      "|spam|Free entry in 2 a...|\n",
      "| ham|U dun say so earl...|\n",
      "| ham|Nah I don't think...|\n",
      "|spam|FreeMsg Hey there...|\n",
      "| ham|Even my brother i...|\n",
      "| ham|As per your reque...|\n",
      "|spam|WINNER!! As a val...|\n",
      "|spam|Had your mobile 1...|\n",
      "| ham|I'm gonna be home...|\n",
      "|spam|SIX chances to wi...|\n",
      "|spam|URGENT! You have ...|\n",
      "| ham|I've been searchi...|\n",
      "| ham|I HAVE A DATE ON ...|\n",
      "|spam|XXXMobileMovieClu...|\n",
      "| ham|Oh k...i'm watchi...|\n",
      "| ham|Eh u remember how...|\n",
      "| ham|Fine if thats th...|\n",
      "|spam|England v Macedon...|\n",
      "+----+--------------------+\n",
      "only showing top 20 rows\n",
      "\n"
     ]
    }
   ],
   "source": [
    "df.show()"
   ]
  },
  {
   "cell_type": "code",
   "execution_count": 5,
   "id": "29a19989",
   "metadata": {},
   "outputs": [
    {
     "data": {
      "text/plain": [
       "5574"
      ]
     },
     "execution_count": 5,
     "metadata": {},
     "output_type": "execute_result"
    }
   ],
   "source": [
    "df.count()"
   ]
  },
  {
   "cell_type": "code",
   "execution_count": 8,
   "id": "9e8022a5",
   "metadata": {},
   "outputs": [],
   "source": [
    "df = df.withColumnRenamed(\"_c0\", \"class\").withColumnRenamed(\"_c1\", \"text\")"
   ]
  },
  {
   "cell_type": "code",
   "execution_count": 9,
   "id": "f0f981f0",
   "metadata": {},
   "outputs": [
    {
     "data": {
      "text/plain": [
       "['class', 'text']"
      ]
     },
     "execution_count": 9,
     "metadata": {},
     "output_type": "execute_result"
    }
   ],
   "source": [
    "df.columns"
   ]
  },
  {
   "cell_type": "code",
   "execution_count": 10,
   "id": "5b3f34f5",
   "metadata": {},
   "outputs": [],
   "source": [
    "df = df.withColumn(\"length\", sqlf.length(\"text\"))"
   ]
  },
  {
   "cell_type": "code",
   "execution_count": 11,
   "id": "7dd47c3f",
   "metadata": {},
   "outputs": [
    {
     "name": "stdout",
     "output_type": "stream",
     "text": [
      "+-----+--------------------+------+\n",
      "|class|                text|length|\n",
      "+-----+--------------------+------+\n",
      "|  ham|Go until jurong p...|   111|\n",
      "|  ham|Ok lar... Joking ...|    29|\n",
      "| spam|Free entry in 2 a...|   155|\n",
      "+-----+--------------------+------+\n",
      "only showing top 3 rows\n",
      "\n"
     ]
    }
   ],
   "source": [
    "df.show(3)"
   ]
  },
  {
   "cell_type": "code",
   "execution_count": 13,
   "id": "bf56c1bb",
   "metadata": {},
   "outputs": [
    {
     "name": "stdout",
     "output_type": "stream",
     "text": [
      "+-----+-----------------+\n",
      "|class|      avg(length)|\n",
      "+-----+-----------------+\n",
      "|  ham|71.45431945307645|\n",
      "| spam|138.6706827309237|\n",
      "+-----+-----------------+\n",
      "\n"
     ]
    }
   ],
   "source": [
    "df.groupBy(\"class\").mean().show()"
   ]
  },
  {
   "cell_type": "code",
   "execution_count": 14,
   "id": "3ccfb07c",
   "metadata": {},
   "outputs": [],
   "source": [
    "from pyspark.ml.feature import Tokenizer, CountVectorizer, StopWordsRemover, IDF, StringIndexer"
   ]
  },
  {
   "cell_type": "code",
   "execution_count": 15,
   "id": "777ef576",
   "metadata": {},
   "outputs": [],
   "source": [
    "tokenizer = Tokenizer(inputCol=\"text\", outputCol=\"token_text\")"
   ]
  },
  {
   "cell_type": "code",
   "execution_count": 16,
   "id": "8babd533",
   "metadata": {},
   "outputs": [],
   "source": [
    "stop_remover = StopWordsRemover(inputCol=\"token_text\", outputCol=\"stop_token\")"
   ]
  },
  {
   "cell_type": "code",
   "execution_count": 17,
   "id": "ab27f39a",
   "metadata": {},
   "outputs": [],
   "source": [
    "count_vectorizer = CountVectorizer(inputCol=\"stop_token\", outputCol=\"c_vec\")"
   ]
  },
  {
   "cell_type": "code",
   "execution_count": 18,
   "id": "94d9cca0",
   "metadata": {},
   "outputs": [],
   "source": [
    "idf = IDF(inputCol=\"c_vec\", outputCol=\"tf_idf\")"
   ]
  },
  {
   "cell_type": "code",
   "execution_count": 19,
   "id": "254686b5",
   "metadata": {},
   "outputs": [],
   "source": [
    "string_to_int = StringIndexer(inputCol=\"class\", outputCol=\"label\")"
   ]
  },
  {
   "cell_type": "code",
   "execution_count": 20,
   "id": "93991821",
   "metadata": {},
   "outputs": [],
   "source": [
    "from pyspark.ml.feature import VectorAssembler"
   ]
  },
  {
   "cell_type": "code",
   "execution_count": 21,
   "id": "f1d9cb1e",
   "metadata": {},
   "outputs": [],
   "source": [
    "v_ass = VectorAssembler(inputCols=[\"tf_idf\", \"length\"], outputCol=\"features\")"
   ]
  },
  {
   "cell_type": "code",
   "execution_count": 22,
   "id": "8762dfd9",
   "metadata": {},
   "outputs": [],
   "source": [
    "from pyspark.ml.classification import NaiveBayes"
   ]
  },
  {
   "cell_type": "code",
   "execution_count": 34,
   "id": "5c11e41f",
   "metadata": {},
   "outputs": [],
   "source": [
    "nb = NaiveBayes()"
   ]
  },
  {
   "cell_type": "code",
   "execution_count": 35,
   "id": "8692aaa4",
   "metadata": {},
   "outputs": [],
   "source": [
    "from pyspark.ml import Pipeline"
   ]
  },
  {
   "cell_type": "code",
   "execution_count": 36,
   "id": "c666c578",
   "metadata": {},
   "outputs": [],
   "source": [
    "data_pipeline = Pipeline(stages=[string_to_int, tokenizer, stop_remover, count_vectorizer, idf, v_ass])"
   ]
  },
  {
   "cell_type": "code",
   "execution_count": 37,
   "id": "86a1714d",
   "metadata": {},
   "outputs": [],
   "source": [
    "cleaned = data_pipeline.fit(df)"
   ]
  },
  {
   "cell_type": "code",
   "execution_count": 38,
   "id": "40d7ce3c",
   "metadata": {},
   "outputs": [],
   "source": [
    "cleaned_data = cleaned.transform(df)"
   ]
  },
  {
   "cell_type": "code",
   "execution_count": 41,
   "id": "c6e00430",
   "metadata": {},
   "outputs": [],
   "source": [
    "cleaned_data = cleaned_data.select([\"label\", \"features\"])"
   ]
  },
  {
   "cell_type": "code",
   "execution_count": 42,
   "id": "3f94c111",
   "metadata": {},
   "outputs": [],
   "source": [
    "train, test = cleaned_data.randomSplit([.8, .2])"
   ]
  },
  {
   "cell_type": "code",
   "execution_count": 44,
   "id": "625b68aa",
   "metadata": {},
   "outputs": [],
   "source": [
    "nb_model = nb.fit(train)"
   ]
  },
  {
   "cell_type": "code",
   "execution_count": 45,
   "id": "c611ff47",
   "metadata": {},
   "outputs": [],
   "source": [
    "predictions = nb_model.transform(test)"
   ]
  },
  {
   "cell_type": "code",
   "execution_count": 46,
   "id": "7b8dc315",
   "metadata": {},
   "outputs": [
    {
     "name": "stdout",
     "output_type": "stream",
     "text": [
      "+-----+--------------------+--------------------+--------------------+----------+\n",
      "|label|            features|       rawPrediction|         probability|prediction|\n",
      "+-----+--------------------+--------------------+--------------------+----------+\n",
      "|  0.0|(13424,[0,1,3,9,1...|[-575.45234769703...|[0.99999999999998...|       0.0|\n",
      "|  0.0|(13424,[0,1,7,8,1...|[-885.90035926573...|[1.0,4.8545852319...|       0.0|\n",
      "|  0.0|(13424,[0,1,24,31...|[-356.50587080003...|[1.0,8.9972221107...|       0.0|\n",
      "|  0.0|(13424,[0,1,30,11...|[-596.44929890683...|[1.0,1.9929717097...|       0.0|\n",
      "|  0.0|(13424,[0,1,31,43...|[-342.38938988104...|[1.0,4.1904217075...|       0.0|\n",
      "|  0.0|(13424,[0,1,43,69...|[-619.13193968306...|[0.99994496480073...|       0.0|\n",
      "|  0.0|(13424,[0,1,150,1...|[-252.88099401747...|[0.88900677148327...|       0.0|\n",
      "|  0.0|(13424,[0,2,3,8,2...|[-1613.2448311084...|[1.0,3.2608550113...|       0.0|\n",
      "|  0.0|(13424,[0,2,4,10,...|[-1237.8001121058...|[1.0,6.1924158009...|       0.0|\n",
      "|  0.0|(13424,[0,2,4,26,...|[-425.81111791712...|[1.0,6.4767369717...|       0.0|\n",
      "|  0.0|(13424,[0,2,7,43,...|[-591.93177731521...|[1.0,1.2380184547...|       0.0|\n",
      "|  0.0|(13424,[0,2,8,26,...|[-309.42387414026...|[1.0,9.9490497525...|       0.0|\n",
      "|  0.0|(13424,[0,2,8,27,...|[-1412.0160686090...|[1.0,1.1754715589...|       0.0|\n",
      "|  0.0|(13424,[0,2,10,13...|[-4859.5104754063...|           [1.0,0.0]|       0.0|\n",
      "|  0.0|(13424,[0,2,18,76...|[-199.86377399521...|[1.93967369603555...|       1.0|\n",
      "|  0.0|(13424,[0,2,18,11...|[-1093.9088403785...|[1.0,4.8533881213...|       0.0|\n",
      "|  0.0|(13424,[0,2,21,62...|[-376.61497278603...|[1.0,1.4425170663...|       0.0|\n",
      "|  0.0|(13424,[0,2,55,67...|[-345.02057493874...|[1.0,4.2671838656...|       0.0|\n",
      "|  0.0|(13424,[0,2,68,15...|[-1164.2887527833...|[1.21899415341726...|       1.0|\n",
      "|  0.0|(13424,[0,2,359,9...|[-195.70223648810...|[0.95862408009870...|       0.0|\n",
      "+-----+--------------------+--------------------+--------------------+----------+\n",
      "only showing top 20 rows\n",
      "\n"
     ]
    }
   ],
   "source": [
    "predictions.show()"
   ]
  },
  {
   "cell_type": "code",
   "execution_count": 48,
   "id": "e8769f56",
   "metadata": {},
   "outputs": [],
   "source": [
    "from pyspark.ml.evaluation import MulticlassClassificationEvaluator"
   ]
  },
  {
   "cell_type": "code",
   "execution_count": 49,
   "id": "95e10af6",
   "metadata": {},
   "outputs": [],
   "source": [
    "evalu = MulticlassClassificationEvaluator(predictionCol=\"prediction\", labelCol=\"label\")"
   ]
  },
  {
   "cell_type": "code",
   "execution_count": 53,
   "id": "1e74888e",
   "metadata": {},
   "outputs": [
    {
     "data": {
      "text/plain": [
       "0.9296014645489316"
      ]
     },
     "execution_count": 53,
     "metadata": {},
     "output_type": "execute_result"
    }
   ],
   "source": [
    "evalu.evaluate(predictions)"
   ]
  },
  {
   "cell_type": "code",
   "execution_count": null,
   "id": "157fe29c",
   "metadata": {},
   "outputs": [],
   "source": []
  }
 ],
 "metadata": {
  "kernelspec": {
   "display_name": "Python 3 (ipykernel)",
   "language": "python",
   "name": "python3"
  },
  "language_info": {
   "codemirror_mode": {
    "name": "ipython",
    "version": 3
   },
   "file_extension": ".py",
   "mimetype": "text/x-python",
   "name": "python",
   "nbconvert_exporter": "python",
   "pygments_lexer": "ipython3",
   "version": "3.10.10"
  }
 },
 "nbformat": 4,
 "nbformat_minor": 5
}
