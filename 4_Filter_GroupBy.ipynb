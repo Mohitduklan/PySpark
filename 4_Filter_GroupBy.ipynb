{
 "cells": [
  {
   "cell_type": "code",
   "execution_count": 1,
   "metadata": {},
   "outputs": [],
   "source": [
    "from pyspark import SparkContext"
   ]
  },
  {
   "cell_type": "code",
   "execution_count": 2,
   "metadata": {
    "scrolled": true
   },
   "outputs": [],
   "source": [
    "sc = SparkContext('local')"
   ]
  },
  {
   "cell_type": "code",
   "execution_count": 3,
   "metadata": {},
   "outputs": [],
   "source": [
    "rdd = sc.textFile('text.txt')"
   ]
  },
  {
   "cell_type": "code",
   "execution_count": 46,
   "metadata": {},
   "outputs": [],
   "source": [
    "def preprocess(line):\n",
    "    line = line.lower()\n",
    "    line = line.split()\n",
    "    return line"
   ]
  },
  {
   "cell_type": "code",
   "execution_count": 47,
   "metadata": {},
   "outputs": [],
   "source": [
    "def stopWords(rdd):\n",
    "    stop = ['i', 'am', 'a', 'the', 'is', 'on', 'and', 'of', 'in', 'it']\n",
    "    rddFilter = rdd.filter(lambda x: x not in stop)\n",
    "    return rddFilter"
   ]
  },
  {
   "cell_type": "code",
   "execution_count": 48,
   "metadata": {},
   "outputs": [],
   "source": [
    "rddPreFlatMap = rdd.flatMap(preprocess)\n",
    "rddFilter = stopWords(rddPreFlatMap)"
   ]
  },
  {
   "cell_type": "code",
   "execution_count": 84,
   "metadata": {
    "scrolled": true
   },
   "outputs": [
    {
     "data": {
      "text/plain": [
       "['wiki', 'run', 'using', 'wiki', 'software,']"
      ]
     },
     "execution_count": 84,
     "metadata": {},
     "output_type": "execute_result"
    }
   ],
   "source": [
    "rddFilter.take(5)"
   ]
  },
  {
   "cell_type": "code",
   "execution_count": 52,
   "metadata": {},
   "outputs": [],
   "source": [
    "rddGroupBy = rddFilter.groupBy(lambda x: x[0:3])"
   ]
  },
  {
   "cell_type": "code",
   "execution_count": 53,
   "metadata": {
    "scrolled": true
   },
   "outputs": [
    {
     "data": {
      "text/plain": [
       "[('wik', <pyspark.resultiterable.ResultIterable at 0x7f6d2195b240>),\n",
       " ('run', <pyspark.resultiterable.ResultIterable at 0x7f6d21714ba8>),\n",
       " ('usi', <pyspark.resultiterable.ResultIterable at 0x7f6d2170bf60>),\n",
       " ('sof', <pyspark.resultiterable.ResultIterable at 0x7f6d2195b3c8>),\n",
       " ('oth', <pyspark.resultiterable.ResultIterable at 0x7f6d2170bef0>)]"
      ]
     },
     "execution_count": 53,
     "metadata": {},
     "output_type": "execute_result"
    }
   ],
   "source": [
    "rddGroupBy.take(5)"
   ]
  },
  {
   "cell_type": "code",
   "execution_count": 85,
   "metadata": {},
   "outputs": [
    {
     "name": "stdout",
     "output_type": "stream",
     "text": [
      "wik ['wikis[citation', 'wiki-related', 'wiki.regiowiki.eu.', 'wikipedia\".', 'wikinodes', 'wikivoyage,', 'wikitext', 'wikiwikiweb.', 'wikis,', 'wikiwikiweb,', 'wiki.[49]', 'wiki-node', 'wikisym', 'wiki-based', 'wikinomics:', 'wikipedia:edit', 'wikinode', \"wikis'\", 'wiki\".', 'wikiwikiweb', 'wiki\"', \"wiki's\", 'wikimania,', 'wiki,', 'wikipedia.', 'wikis.', 'wiki;', 'wiki)', 'wiki:', 'wikipedia\",', 'wikipatterns,', 'wikia', 'wikipedia', 'wikipedia,', 'wikitext,', 'wikis', 'wikimedia', 'wiki.[12]', 'wikidpad', 'wiki-wiki', \"wikipedia's\", 'wikipedians', 'wikis:', 'wikis\".', 'wikinodes.', 'wikitexts', 'wikicode', 'wiki.org.', 'wikis.[26]', \"wiki'\", 'wikis\"', 'wikipedia:wikinode.', 'wiki', 'wiki.', 'wikitext.']\n"
     ]
    }
   ],
   "source": [
    "pick = rddGroupBy.take(5)\n",
    "k, v = pick[0]\n",
    "print(k, list(set(v)))"
   ]
  },
  {
   "cell_type": "code",
   "execution_count": null,
   "metadata": {},
   "outputs": [],
   "source": []
  },
  {
   "cell_type": "code",
   "execution_count": 87,
   "metadata": {},
   "outputs": [
    {
     "name": "stdout",
     "output_type": "stream",
     "text": [
      "wik ['wikis[citation', 'wiki-related', 'wiki.regiowiki.eu.', 'wikipedia\".', 'wikinodes', 'wikivoyage,', 'wikitext', 'wikiwikiweb.', 'wikis,', 'wikiwikiweb,', 'wiki.[49]', 'wiki-node', 'wikisym', 'wiki-based', 'wikinomics:', 'wikipedia:edit', 'wikinode', \"wikis'\", 'wiki\".', 'wikiwikiweb', 'wiki\"', \"wiki's\", 'wikimania,', 'wiki,', 'wikipedia.', 'wikis.', 'wiki;', 'wiki)', 'wiki:', 'wikipedia\",', 'wikipatterns,', 'wikia', 'wikipedia', 'wikipedia,', 'wikitext,', 'wikis', 'wikimedia', 'wiki.[12]', 'wikidpad', 'wiki-wiki', \"wikipedia's\", 'wikipedians', 'wikis:', 'wikis\".', 'wikinodes.', 'wikitexts', 'wikicode', 'wiki.org.', 'wikis.[26]', \"wiki'\", 'wikis\"', 'wikipedia:wikinode.', 'wiki', 'wiki.', 'wikitext.']\n",
      "------\n",
      "run ['runs', 'run']\n",
      "------\n",
      "usi ['using']\n",
      "------\n",
      "sof ['software', 'software,', 'soft-security', 'software.']\n",
      "------\n",
      "oth ['others', \"other's\", 'other', 'otherwise']\n",
      "------\n"
     ]
    }
   ],
   "source": [
    "for (k, v) in rddGroupBy.take(5):\n",
    "    print(k, list(set(v)), end=\"\\n------\\n\")"
   ]
  },
  {
   "cell_type": "code",
   "execution_count": null,
   "metadata": {},
   "outputs": [],
   "source": []
  }
 ],
 "metadata": {
  "kernelspec": {
   "display_name": "Python 3",
   "language": "python",
   "name": "python3"
  },
  "language_info": {
   "codemirror_mode": {
    "name": "ipython",
    "version": 3
   },
   "file_extension": ".py",
   "mimetype": "text/x-python",
   "name": "python",
   "nbconvert_exporter": "python",
   "pygments_lexer": "ipython3",
   "version": "3.6.8"
  }
 },
 "nbformat": 4,
 "nbformat_minor": 2
}
